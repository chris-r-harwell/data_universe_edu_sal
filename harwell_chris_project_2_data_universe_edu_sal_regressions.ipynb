{
 "cells": [
  {
   "cell_type": "code",
   "execution_count": 2,
   "metadata": {
    "collapsed": false
   },
   "outputs": [
    {
     "name": "stderr",
     "output_type": "stream",
     "text": [
      ":0: FutureWarning: IPython widgets are experimental and may change in the future.\n"
     ]
    }
   ],
   "source": [
    "import argparse\n",
    "import numpy as np\n",
    "import pandas as pd\n",
    "import patsy\n",
    "import pickle\n",
    "import re\n",
    "import scipy.stats as ss\n",
    "import seaborn as sns\n",
    "from seaborn import plt\n",
    "from sklearn.linear_model import LinearRegression\n",
    "from sklearn.linear_model import RidgeCV\n",
    "import statsmodels.api as sm\n",
    "import sys"
   ]
  },
  {
   "cell_type": "code",
   "execution_count": 3,
   "metadata": {
    "collapsed": true
   },
   "outputs": [],
   "source": [
    "%matplotlib inline"
   ]
  },
  {
   "cell_type": "code",
   "execution_count": 4,
   "metadata": {
    "collapsed": true
   },
   "outputs": [],
   "source": [
    "def dprint(s):\n",
    "    if debug:\n",
    "        print('debug: {}'.format(s))"
   ]
  },
  {
   "cell_type": "code",
   "execution_count": 5,
   "metadata": {
    "collapsed": true
   },
   "outputs": [],
   "source": [
    "def unpickle_data(fn='my_data.pkl'):\n",
    "    # Load it back.\n",
    "    with open(fn, 'rb') as picklefile:\n",
    "        d = pickle.load(picklefile)\n",
    "    return d"
   ]
  },
  {
   "cell_type": "code",
   "execution_count": 6,
   "metadata": {
    "collapsed": true
   },
   "outputs": [],
   "source": [
    "debug = True"
   ]
  },
  {
   "cell_type": "code",
   "execution_count": 7,
   "metadata": {
    "collapsed": false
   },
   "outputs": [
    {
     "name": "stdout",
     "output_type": "stream",
     "text": [
      "debug: ['first', 'last', 'salary', 'county', 'district', 'experience_district', 'school', 'experience_nj', 'primary_job', 'experience_total', 'fte', 'subcategory', 'certificate', 'highly_qualified', 'teaching_route']\n",
      "debug: number of records before 577\n",
      "debug: number of records after 395\n"
     ]
    }
   ],
   "source": [
    "base_dir = '/home/crh/git/nyc17_ds12/student_submissions/projects/02-luther/harwell_chris'\n",
    "data1 = unpickle_data(fn=base_dir + '/edu_sal/sal_each_page91953_91969.pkl')\n",
    "data2 = unpickle_data(fn=base_dir + '/edu_sal/sal_each_page91969_92545.pkl')\n",
    "data = data1\n",
    "data1.update(data2)\n",
    "dprint(repr(data['headers']))\n",
    "# dprint(repr(data['salaries']))\n",
    "# Filter based on\n",
    "desired_district = 'Sch Dist Of The Chathams'\n",
    "dprint('number of records before {}'.format(len(data['salaries'])))\n",
    "data['salaries'] = [r for r in data['salaries'] if r[4] == desired_district]\n",
    "dprint('number of records after {}'.format(len(data['salaries'])))"
   ]
  },
  {
   "cell_type": "code",
   "execution_count": 8,
   "metadata": {
    "collapsed": false
   },
   "outputs": [
    {
     "name": "stdout",
     "output_type": "stream",
     "text": [
      "debug: first                   object\n",
      "last                    object\n",
      "salary                 float64\n",
      "county                  object\n",
      "district                object\n",
      "experience_district     object\n",
      "school                  object\n",
      "experience_nj           object\n",
      "primary_job             object\n",
      "experience_total        object\n",
      "fte                     object\n",
      "subcategory             object\n",
      "certificate             object\n",
      "highly_qualified        object\n",
      "teaching_route          object\n",
      "dtype: object\n"
     ]
    }
   ],
   "source": [
    "# Convert our lists to a dataframe.\n",
    "df = pd.DataFrame(data['salaries'], columns=data['headers'])\n",
    "# dprint(repr(df))\n",
    "dprint(repr(df.dtypes))"
   ]
  },
  {
   "cell_type": "code",
   "execution_count": 9,
   "metadata": {
    "collapsed": false
   },
   "outputs": [
    {
     "name": "stdout",
     "output_type": "stream",
     "text": [
      "debug: Len before dropna: 395\n",
      "debug: Len after dropna: 393\n"
     ]
    }
   ],
   "source": [
    "# Git rid of the N/A\n",
    "df2 = df.replace('N/A', np.NaN)\n",
    "dprint('Len before dropna: {}'.format(len(df2)))\n",
    "n = ['salary', 'experience_district', 'experience_nj', 'experience_total', 'fte']\n",
    "df3 = df2.dropna(subset=n)\n",
    "dprint('Len after dropna: {}'.format(len(df3)))"
   ]
  },
  {
   "cell_type": "code",
   "execution_count": 10,
   "metadata": {
    "collapsed": false
   },
   "outputs": [
    {
     "name": "stderr",
     "output_type": "stream",
     "text": [
      "/usr/lib64/python3.5/site-packages/pandas/core/frame.py:2438: SettingWithCopyWarning: \n",
      "A value is trying to be set on a copy of a slice from a DataFrame.\n",
      "Try using .loc[row_indexer,col_indexer] = value instead\n",
      "\n",
      "See the caveats in the documentation: http://pandas.pydata.org/pandas-docs/stable/indexing.html#indexing-view-versus-copy\n",
      "  self[k1] = value[k2]\n"
     ]
    }
   ],
   "source": [
    "df4 = df3\n",
    "df4[n] = df3[n].apply(pd.to_numeric)"
   ]
  },
  {
   "cell_type": "code",
   "execution_count": 11,
   "metadata": {
    "collapsed": false
   },
   "outputs": [
    {
     "name": "stdout",
     "output_type": "stream",
     "text": [
      "1 column: first\n",
      "2 column: last\n",
      "3 column: salary\n",
      "4 column: county\n",
      "5 column: district\n",
      "6 column: experience_district\n",
      "7 column: school\n",
      "8 column: experience_nj\n",
      "9 column: primary_job\n",
      "10 column: experience_total\n",
      "11 column: fte\n",
      "12 column: subcategory\n",
      "13 column: certificate\n",
      "14 column: highly_qualified\n",
      "15 column: teaching_route\n",
      "debug: row * column: (393, 15)\n"
     ]
    }
   ],
   "source": [
    "for idx, val in enumerate(df4.columns):\n",
    "    print('{} column: {}'.format(idx + 1, val))\n",
    "dprint('row * column: {}'.format(df4.shape))"
   ]
  },
  {
   "cell_type": "code",
   "execution_count": 12,
   "metadata": {
    "collapsed": false
   },
   "outputs": [
    {
     "name": "stdout",
     "output_type": "stream",
     "text": [
      "correlations:                        salary  experience_district  experience_nj  \\\n",
      "salary               1.000000             0.449013       0.648880   \n",
      "experience_district  0.449013             1.000000       0.859131   \n",
      "experience_nj        0.648880             0.859131       1.000000   \n",
      "experience_total     0.651503             0.848914       0.990810   \n",
      "fte                  0.221986            -0.098855      -0.086944   \n",
      "\n",
      "                     experience_total       fte  \n",
      "salary                       0.651503  0.221986  \n",
      "experience_district          0.848914 -0.098855  \n",
      "experience_nj                0.990810 -0.086944  \n",
      "experience_total             1.000000 -0.083084  \n",
      "fte                         -0.083084  1.000000  \n"
     ]
    }
   ],
   "source": [
    "print('correlations: {}'.format(df4.corr()))"
   ]
  },
  {
   "cell_type": "code",
   "execution_count": 13,
   "metadata": {
    "collapsed": false
   },
   "outputs": [
    {
     "name": "stdout",
     "output_type": "stream",
     "text": [
      "The \"experience_total\" and \"experience_nj\" columns are highly correlated (0.99).\n",
      "- either they are not including other states or we do not have any.\n",
      "The nj and district experience are also high (0.85).\n"
     ]
    }
   ],
   "source": [
    "print('The \"experience_total\" and \"experience_nj\" columns are highly correlated (0.99).')\n",
    "print('- either they are not including other states or we do not have any.')\n",
    "print('The nj and district experience are also high (0.85).')\n"
   ]
  },
  {
   "cell_type": "code",
   "execution_count": null,
   "metadata": {
    "collapsed": false
   },
   "outputs": [],
   "source": []
  },
  {
   "cell_type": "code",
   "execution_count": null,
   "metadata": {
    "collapsed": true
   },
   "outputs": [],
   "source": []
  },
  {
   "cell_type": "code",
   "execution_count": 14,
   "metadata": {
    "collapsed": false
   },
   "outputs": [
    {
     "data": {
      "text/plain": [
       "<seaborn.axisgrid.PairGrid at 0x7fbfb8c7c438>"
      ]
     },
     "execution_count": 14,
     "metadata": {},
     "output_type": "execute_result"
    },
    {
     "data": {
      "image/png": "[encoded data removed]",
      "text/plain": [
       "<matplotlib.figure.Figure at 0x7fbfb8c7c3c8>"
      ]
     },
     "metadata": {},
     "output_type": "display_data"
    }
   ],
   "source": [
    "sns.pairplot(df4, size=1.2, aspect=1.5)"
   ]
  },
  {
   "cell_type": "code",
   "execution_count": 15,
   "metadata": {
    "collapsed": false
   },
   "outputs": [
    {
     "data": {
      "text/plain": [
       "<matplotlib.text.Text at 0x7fbfb849b2e8>"
      ]
     },
     "execution_count": 15,
     "metadata": {},
     "output_type": "execute_result"
    },
    {
     "data": {
      "image/png": "[encoded data removed]",
      "text/plain": [
       "<matplotlib.figure.Figure at 0x7fbfb85c2a58>"
      ]
     },
     "metadata": {},
     "output_type": "display_data"
    }
   ],
   "source": [
    "sal = df4.salary\n",
    "ax = sal.hist()\n",
    "ax.set_xlabel('Salary/USD')\n",
    "ax.set_ylabel('Count')\n",
    "ax.set_title('Salary Histogram')"
   ]
  },
  {
   "cell_type": "code",
   "execution_count": 16,
   "metadata": {
    "collapsed": false
   },
   "outputs": [
    {
     "name": "stdout",
     "output_type": "stream",
     "text": [
      "average: 71,931\n",
      "middle: 65,035\n",
      "min,max range: 21,236 through 164,303\n",
      "iqr range for dispersion: 22,884\n"
     ]
    }
   ],
   "source": [
    "print('average: {:,.0f}'.format(sal.mean()))\n",
    "print('middle: {:,.0f}'.format(sal.median()))\n",
    "print('min,max range: {:,.0f} through {:,.0f}'.format(sal.min(), sal.max()))\n",
    "print('iqr range for dispersion: {:,.0f}'.format(ss.iqr(sal)))"
   ]
  },
  {
   "cell_type": "code",
   "execution_count": 17,
   "metadata": {
    "collapsed": false
   },
   "outputs": [
    {
     "data": {
      "text/plain": [
       "DescribeResult(nobs=393, minmax=(21236.0, 164303.0), mean=71931.325699745546, variance=475049866.43446535, skewness=1.1999130808179492, kurtosis=2.1010797452043084)"
      ]
     },
     "execution_count": 17,
     "metadata": {},
     "output_type": "execute_result"
    }
   ],
   "source": [
    "ss.describe(sal)"
   ]
  },
  {
   "cell_type": "code",
   "execution_count": 18,
   "metadata": {
    "collapsed": false
   },
   "outputs": [
    {
     "name": "stdout",
     "output_type": "stream",
     "text": [
      "Looks skewed at 1.2 (vs. 0 for normal)\n"
     ]
    }
   ],
   "source": [
    "print('Looks skewed at 1.2 (vs. 0 for normal)')"
   ]
  },
  {
   "cell_type": "code",
   "execution_count": 19,
   "metadata": {
    "collapsed": false
   },
   "outputs": [
    {
     "data": {
      "text/plain": [
       "NormaltestResult(statistic=86.716775754067598, pvalue=1.4780577426373062e-19)"
      ]
     },
     "execution_count": 19,
     "metadata": {},
     "output_type": "execute_result"
    }
   ],
   "source": [
    "ss.normaltest(sal)"
   ]
  },
  {
   "cell_type": "code",
   "execution_count": 20,
   "metadata": {
    "collapsed": true
   },
   "outputs": [],
   "source": [
    "df5 = df4[n]"
   ]
  },
  {
   "cell_type": "code",
   "execution_count": 21,
   "metadata": {
    "collapsed": false
   },
   "outputs": [
    {
     "data": {
      "text/html": [
       "<table class=\"simpletable\">\n",
       "<caption>OLS Regression Results</caption>\n",
       "<tr>\n",
       "  <th>Dep. Variable:</th>         <td>salary</td>      <th>  R-squared:         </th> <td>   0.202</td>\n",
       "</tr>\n",
       "<tr>\n",
       "  <th>Model:</th>                   <td>OLS</td>       <th>  Adj. R-squared:    </th> <td>   0.200</td>\n",
       "</tr>\n",
       "<tr>\n",
       "  <th>Method:</th>             <td>Least Squares</td>  <th>  F-statistic:       </th> <td>   98.74</td>\n",
       "</tr>\n",
       "<tr>\n",
       "  <th>Date:</th>             <td>Mon, 17 Jul 2017</td> <th>  Prob (F-statistic):</th> <td>6.79e-21</td>\n",
       "</tr>\n",
       "<tr>\n",
       "  <th>Time:</th>                 <td>08:59:46</td>     <th>  Log-Likelihood:    </th> <td> -4438.8</td>\n",
       "</tr>\n",
       "<tr>\n",
       "  <th>No. Observations:</th>      <td>   393</td>      <th>  AIC:               </th> <td>   8882.</td>\n",
       "</tr>\n",
       "<tr>\n",
       "  <th>Df Residuals:</th>          <td>   391</td>      <th>  BIC:               </th> <td>   8889.</td>\n",
       "</tr>\n",
       "<tr>\n",
       "  <th>Df Model:</th>              <td>     1</td>      <th>                     </th>     <td> </td>   \n",
       "</tr>\n",
       "<tr>\n",
       "  <th>Covariance Type:</th>      <td>nonrobust</td>    <th>                     </th>     <td> </td>   \n",
       "</tr>\n",
       "</table>\n",
       "<table class=\"simpletable\">\n",
       "<tr>\n",
       "           <td></td>              <th>coef</th>     <th>std err</th>      <th>t</th>      <th>P>|t|</th> <th>[95.0% Conf. Int.]</th> \n",
       "</tr>\n",
       "<tr>\n",
       "  <th>Intercept</th>           <td> 6.137e+04</td> <td> 1448.301</td> <td>   42.373</td> <td> 0.000</td> <td> 5.85e+04  6.42e+04</td>\n",
       "</tr>\n",
       "<tr>\n",
       "  <th>experience_district</th> <td> 1395.3776</td> <td>  140.427</td> <td>    9.937</td> <td> 0.000</td> <td> 1119.291  1671.465</td>\n",
       "</tr>\n",
       "</table>\n",
       "<table class=\"simpletable\">\n",
       "<tr>\n",
       "  <th>Omnibus:</th>       <td>137.975</td> <th>  Durbin-Watson:     </th> <td>   1.819</td> \n",
       "</tr>\n",
       "<tr>\n",
       "  <th>Prob(Omnibus):</th> <td> 0.000</td>  <th>  Jarque-Bera (JB):  </th> <td> 541.528</td> \n",
       "</tr>\n",
       "<tr>\n",
       "  <th>Skew:</th>          <td> 1.519</td>  <th>  Prob(JB):          </th> <td>2.56e-118</td>\n",
       "</tr>\n",
       "<tr>\n",
       "  <th>Kurtosis:</th>      <td> 7.882</td>  <th>  Cond. No.          </th> <td>    15.3</td> \n",
       "</tr>\n",
       "</table>"
      ],
      "text/plain": [
       "<class 'statsmodels.iolib.summary.Summary'>\n",
       "\"\"\"\n",
       "                            OLS Regression Results                            \n",
       "==============================================================================\n",
       "Dep. Variable:                 salary   R-squared:                       0.202\n",
       "Model:                            OLS   Adj. R-squared:                  0.200\n",
       "Method:                 Least Squares   F-statistic:                     98.74\n",
       "Date:                Mon, 17 Jul 2017   Prob (F-statistic):           6.79e-21\n",
       "Time:                        08:59:46   Log-Likelihood:                -4438.8\n",
       "No. Observations:                 393   AIC:                             8882.\n",
       "Df Residuals:                     391   BIC:                             8889.\n",
       "Df Model:                           1                                         \n",
       "Covariance Type:            nonrobust                                         \n",
       "=======================================================================================\n",
       "                          coef    std err          t      P>|t|      [95.0% Conf. Int.]\n",
       "---------------------------------------------------------------------------------------\n",
       "Intercept            6.137e+04   1448.301     42.373      0.000      5.85e+04  6.42e+04\n",
       "experience_district  1395.3776    140.427      9.937      0.000      1119.291  1671.465\n",
       "==============================================================================\n",
       "Omnibus:                      137.975   Durbin-Watson:                   1.819\n",
       "Prob(Omnibus):                  0.000   Jarque-Bera (JB):              541.528\n",
       "Skew:                           1.519   Prob(JB):                    2.56e-118\n",
       "Kurtosis:                       7.882   Cond. No.                         15.3\n",
       "==============================================================================\n",
       "\n",
       "Warnings:\n",
       "[1] Standard Errors assume that the covariance matrix of the errors is correctly specified.\n",
       "\"\"\""
      ]
     },
     "execution_count": 21,
     "metadata": {},
     "output_type": "execute_result"
    }
   ],
   "source": [
    "y, X1 = patsy.dmatrices('salary ~ experience_district ', data=df5, return_type=\"dataframe\")\n",
    "model_experience_district = sm.OLS(y, X1)\n",
    "fit_experience_district = model_experience_district.fit()\n",
    "fit_experience_district.summary()"
   ]
  },
  {
   "cell_type": "code",
   "execution_count": 22,
   "metadata": {
    "collapsed": false
   },
   "outputs": [
    {
     "data": {
      "image/png": "[encoded data removed]",
      "text/plain": [
       "<matplotlib.figure.Figure at 0x7fbfb6597828>"
      ]
     },
     "metadata": {},
     "output_type": "display_data"
    }
   ],
   "source": [
    "sns.lmplot('experience_district', 'salary', data=df4)\n",
    "plt.title='Salary as a function of experience'"
   ]
  },
  {
   "cell_type": "code",
   "execution_count": 23,
   "metadata": {
    "collapsed": false
   },
   "outputs": [
    {
     "data": {
      "text/plain": [
       "<seaborn.axisgrid.FacetGrid at 0x7fbfb7ecbef0>"
      ]
     },
     "execution_count": 23,
     "metadata": {},
     "output_type": "execute_result"
    },
    {
     "data": {
      "image/png": "[encoded data removed]",
      "text/plain": [
       "<matplotlib.figure.Figure at 0x7fbfb652ec18>"
      ]
     },
     "metadata": {},
     "output_type": "display_data"
    }
   ],
   "source": [
    "sns.lmplot('experience_district', 'salary', data=df4, hue='fte')"
   ]
  },
  {
   "cell_type": "code",
   "execution_count": 24,
   "metadata": {
    "collapsed": false
   },
   "outputs": [
    {
     "data": {
      "text/plain": [
       "<seaborn.axisgrid.FacetGrid at 0x7fbfb6526748>"
      ]
     },
     "execution_count": 24,
     "metadata": {},
     "output_type": "execute_result"
    },
    {
     "data": {
      "image/png": "[encoded data removed]",
      "text/plain": [
       "<matplotlib.figure.Figure at 0x7fbfb651c1d0>"
      ]
     },
     "metadata": {},
     "output_type": "display_data"
    }
   ],
   "source": [
    "sns.lmplot('experience_district', 'salary', data=df4, hue='subcategory')"
   ]
  },
  {
   "cell_type": "code",
   "execution_count": 25,
   "metadata": {
    "collapsed": false
   },
   "outputs": [
    {
     "data": {
      "text/plain": [
       "<seaborn.axisgrid.FacetGrid at 0x7fbfb637bac8>"
      ]
     },
     "execution_count": 25,
     "metadata": {},
     "output_type": "execute_result"
    },
    {
     "data": {
      "image/png": "[encoded data removed]",
      "text/plain": [
       "<matplotlib.figure.Figure at 0x7fbfb637be80>"
      ]
     },
     "metadata": {},
     "output_type": "display_data"
    }
   ],
   "source": [
    "sns.lmplot('experience_nj', 'salary', data=df4, hue='subcategory')"
   ]
  },
  {
   "cell_type": "code",
   "execution_count": 26,
   "metadata": {
    "collapsed": false
   },
   "outputs": [
    {
     "data": {
      "text/html": [
       "<table class=\"simpletable\">\n",
       "<caption>OLS Regression Results</caption>\n",
       "<tr>\n",
       "  <th>Dep. Variable:</th>         <td>salary</td>      <th>  R-squared:         </th> <td>   0.421</td>\n",
       "</tr>\n",
       "<tr>\n",
       "  <th>Model:</th>                   <td>OLS</td>       <th>  Adj. R-squared:    </th> <td>   0.420</td>\n",
       "</tr>\n",
       "<tr>\n",
       "  <th>Method:</th>             <td>Least Squares</td>  <th>  F-statistic:       </th> <td>   284.4</td>\n",
       "</tr>\n",
       "<tr>\n",
       "  <th>Date:</th>             <td>Mon, 17 Jul 2017</td> <th>  Prob (F-statistic):</th> <td>2.45e-48</td>\n",
       "</tr>\n",
       "<tr>\n",
       "  <th>Time:</th>                 <td>08:59:49</td>     <th>  Log-Likelihood:    </th> <td> -4375.6</td>\n",
       "</tr>\n",
       "<tr>\n",
       "  <th>No. Observations:</th>      <td>   393</td>      <th>  AIC:               </th> <td>   8755.</td>\n",
       "</tr>\n",
       "<tr>\n",
       "  <th>Df Residuals:</th>          <td>   391</td>      <th>  BIC:               </th> <td>   8763.</td>\n",
       "</tr>\n",
       "<tr>\n",
       "  <th>Df Model:</th>              <td>     1</td>      <th>                     </th>     <td> </td>   \n",
       "</tr>\n",
       "<tr>\n",
       "  <th>Covariance Type:</th>      <td>nonrobust</td>    <th>                     </th>     <td> </td>   \n",
       "</tr>\n",
       "</table>\n",
       "<table class=\"simpletable\">\n",
       "<tr>\n",
       "        <td></td>           <th>coef</th>     <th>std err</th>      <th>t</th>      <th>P>|t|</th> <th>[95.0% Conf. Int.]</th> \n",
       "</tr>\n",
       "<tr>\n",
       "  <th>Intercept</th>     <td> 5.407e+04</td> <td> 1350.180</td> <td>   40.050</td> <td> 0.000</td> <td> 5.14e+04  5.67e+04</td>\n",
       "</tr>\n",
       "<tr>\n",
       "  <th>experience_nj</th> <td> 1792.9873</td> <td>  106.328</td> <td>   16.863</td> <td> 0.000</td> <td> 1583.942  2002.033</td>\n",
       "</tr>\n",
       "</table>\n",
       "<table class=\"simpletable\">\n",
       "<tr>\n",
       "  <th>Omnibus:</th>       <td>89.375</td> <th>  Durbin-Watson:     </th> <td>   1.888</td>\n",
       "</tr>\n",
       "<tr>\n",
       "  <th>Prob(Omnibus):</th> <td> 0.000</td> <th>  Jarque-Bera (JB):  </th> <td> 400.315</td>\n",
       "</tr>\n",
       "<tr>\n",
       "  <th>Skew:</th>          <td> 0.901</td> <th>  Prob(JB):          </th> <td>1.18e-87</td>\n",
       "</tr>\n",
       "<tr>\n",
       "  <th>Kurtosis:</th>      <td> 7.604</td> <th>  Cond. No.          </th> <td>    20.5</td>\n",
       "</tr>\n",
       "</table>"
      ],
      "text/plain": [
       "<class 'statsmodels.iolib.summary.Summary'>\n",
       "\"\"\"\n",
       "                            OLS Regression Results                            \n",
       "==============================================================================\n",
       "Dep. Variable:                 salary   R-squared:                       0.421\n",
       "Model:                            OLS   Adj. R-squared:                  0.420\n",
       "Method:                 Least Squares   F-statistic:                     284.4\n",
       "Date:                Mon, 17 Jul 2017   Prob (F-statistic):           2.45e-48\n",
       "Time:                        08:59:49   Log-Likelihood:                -4375.6\n",
       "No. Observations:                 393   AIC:                             8755.\n",
       "Df Residuals:                     391   BIC:                             8763.\n",
       "Df Model:                           1                                         \n",
       "Covariance Type:            nonrobust                                         \n",
       "=================================================================================\n",
       "                    coef    std err          t      P>|t|      [95.0% Conf. Int.]\n",
       "---------------------------------------------------------------------------------\n",
       "Intercept      5.407e+04   1350.180     40.050      0.000      5.14e+04  5.67e+04\n",
       "experience_nj  1792.9873    106.328     16.863      0.000      1583.942  2002.033\n",
       "==============================================================================\n",
       "Omnibus:                       89.375   Durbin-Watson:                   1.888\n",
       "Prob(Omnibus):                  0.000   Jarque-Bera (JB):              400.315\n",
       "Skew:                           0.901   Prob(JB):                     1.18e-87\n",
       "Kurtosis:                       7.604   Cond. No.                         20.5\n",
       "==============================================================================\n",
       "\n",
       "Warnings:\n",
       "[1] Standard Errors assume that the covariance matrix of the errors is correctly specified.\n",
       "\"\"\""
      ]
     },
     "execution_count": 26,
     "metadata": {},
     "output_type": "execute_result"
    }
   ],
   "source": [
    "y, X2 = patsy.dmatrices('salary ~ experience_nj ', data=df5, return_type=\"dataframe\")\n",
    "model_experience_nj = sm.OLS(y, X2)\n",
    "fit_experience_nj = model_experience_nj.fit()\n",
    "fit_experience_nj.summary()"
   ]
  },
  {
   "cell_type": "code",
   "execution_count": 27,
   "metadata": {
    "collapsed": false
   },
   "outputs": [
    {
     "data": {
      "text/html": [
       "<table class=\"simpletable\">\n",
       "<caption>OLS Regression Results</caption>\n",
       "<tr>\n",
       "  <th>Dep. Variable:</th>         <td>salary</td>      <th>  R-squared:         </th> <td>   0.539</td>\n",
       "</tr>\n",
       "<tr>\n",
       "  <th>Model:</th>                   <td>OLS</td>       <th>  Adj. R-squared:    </th> <td>   0.535</td>\n",
       "</tr>\n",
       "<tr>\n",
       "  <th>Method:</th>             <td>Least Squares</td>  <th>  F-statistic:       </th> <td>   151.4</td>\n",
       "</tr>\n",
       "<tr>\n",
       "  <th>Date:</th>             <td>Mon, 17 Jul 2017</td> <th>  Prob (F-statistic):</th> <td>5.09e-65</td>\n",
       "</tr>\n",
       "<tr>\n",
       "  <th>Time:</th>                 <td>08:59:49</td>     <th>  Log-Likelihood:    </th> <td> -4331.0</td>\n",
       "</tr>\n",
       "<tr>\n",
       "  <th>No. Observations:</th>      <td>   393</td>      <th>  AIC:               </th> <td>   8670.</td>\n",
       "</tr>\n",
       "<tr>\n",
       "  <th>Df Residuals:</th>          <td>   389</td>      <th>  BIC:               </th> <td>   8686.</td>\n",
       "</tr>\n",
       "<tr>\n",
       "  <th>Df Model:</th>              <td>     3</td>      <th>                     </th>     <td> </td>   \n",
       "</tr>\n",
       "<tr>\n",
       "  <th>Covariance Type:</th>      <td>nonrobust</td>    <th>                     </th>     <td> </td>   \n",
       "</tr>\n",
       "</table>\n",
       "<table class=\"simpletable\">\n",
       "<tr>\n",
       "           <td></td>              <th>coef</th>     <th>std err</th>      <th>t</th>      <th>P>|t|</th> <th>[95.0% Conf. Int.]</th> \n",
       "</tr>\n",
       "<tr>\n",
       "  <th>Intercept</th>           <td> 1.796e+04</td> <td> 4761.009</td> <td>    3.771</td> <td> 0.000</td> <td> 8595.270  2.73e+04</td>\n",
       "</tr>\n",
       "<tr>\n",
       "  <th>experience_district</th> <td>-1209.2907</td> <td>  209.348</td> <td>   -5.776</td> <td> 0.000</td> <td>-1620.886  -797.695</td>\n",
       "</tr>\n",
       "<tr>\n",
       "  <th>experience_nj</th>       <td> 2781.8870</td> <td>  185.936</td> <td>   14.962</td> <td> 0.000</td> <td> 2416.322  3147.453</td>\n",
       "</tr>\n",
       "<tr>\n",
       "  <th>fte</th>                 <td> 3.753e+04</td> <td> 4791.543</td> <td>    7.833</td> <td> 0.000</td> <td> 2.81e+04   4.7e+04</td>\n",
       "</tr>\n",
       "</table>\n",
       "<table class=\"simpletable\">\n",
       "<tr>\n",
       "  <th>Omnibus:</th>       <td>108.584</td> <th>  Durbin-Watson:     </th> <td>   1.842</td>\n",
       "</tr>\n",
       "<tr>\n",
       "  <th>Prob(Omnibus):</th> <td> 0.000</td>  <th>  Jarque-Bera (JB):  </th> <td> 389.230</td>\n",
       "</tr>\n",
       "<tr>\n",
       "  <th>Skew:</th>          <td> 1.200</td>  <th>  Prob(JB):          </th> <td>3.02e-85</td>\n",
       "</tr>\n",
       "<tr>\n",
       "  <th>Kurtosis:</th>      <td> 7.244</td>  <th>  Cond. No.          </th> <td>    144.</td>\n",
       "</tr>\n",
       "</table>"
      ],
      "text/plain": [
       "<class 'statsmodels.iolib.summary.Summary'>\n",
       "\"\"\"\n",
       "                            OLS Regression Results                            \n",
       "==============================================================================\n",
       "Dep. Variable:                 salary   R-squared:                       0.539\n",
       "Model:                            OLS   Adj. R-squared:                  0.535\n",
       "Method:                 Least Squares   F-statistic:                     151.4\n",
       "Date:                Mon, 17 Jul 2017   Prob (F-statistic):           5.09e-65\n",
       "Time:                        08:59:49   Log-Likelihood:                -4331.0\n",
       "No. Observations:                 393   AIC:                             8670.\n",
       "Df Residuals:                     389   BIC:                             8686.\n",
       "Df Model:                           3                                         \n",
       "Covariance Type:            nonrobust                                         \n",
       "=======================================================================================\n",
       "                          coef    std err          t      P>|t|      [95.0% Conf. Int.]\n",
       "---------------------------------------------------------------------------------------\n",
       "Intercept            1.796e+04   4761.009      3.771      0.000      8595.270  2.73e+04\n",
       "experience_district -1209.2907    209.348     -5.776      0.000     -1620.886  -797.695\n",
       "experience_nj        2781.8870    185.936     14.962      0.000      2416.322  3147.453\n",
       "fte                  3.753e+04   4791.543      7.833      0.000      2.81e+04   4.7e+04\n",
       "==============================================================================\n",
       "Omnibus:                      108.584   Durbin-Watson:                   1.842\n",
       "Prob(Omnibus):                  0.000   Jarque-Bera (JB):              389.230\n",
       "Skew:                           1.200   Prob(JB):                     3.02e-85\n",
       "Kurtosis:                       7.244   Cond. No.                         144.\n",
       "==============================================================================\n",
       "\n",
       "Warnings:\n",
       "[1] Standard Errors assume that the covariance matrix of the errors is correctly specified.\n",
       "\"\"\""
      ]
     },
     "execution_count": 27,
     "metadata": {},
     "output_type": "execute_result"
    }
   ],
   "source": [
    "y, X3 = patsy.dmatrices('salary ~ experience_district + experience_nj + fte', data=df5, return_type=\"dataframe\")\n",
    "model_exp_both_fte = sm.OLS(y, X3)\n",
    "fit_exp_both_fte = model_exp_both_fte.fit()\n",
    "fit_exp_both_fte.summary()"
   ]
  },
  {
   "cell_type": "code",
   "execution_count": 28,
   "metadata": {
    "collapsed": false
   },
   "outputs": [
    {
     "data": {
      "text/plain": [
       "<matplotlib.axes._subplots.AxesSubplot at 0x7fbfb83dceb8>"
      ]
     },
     "execution_count": 28,
     "metadata": {},
     "output_type": "execute_result"
    },
    {
     "data": {
      "image/png": "[encoded data removed]",
      "text/plain": [
       "<matplotlib.figure.Figure at 0x7fbfb81c9c18>"
      ]
     },
     "metadata": {},
     "output_type": "display_data"
    }
   ],
   "source": [
    "fit_exp_both_fte.resid.plot(style='o', figsize=(12,8))"
   ]
  },
  {
   "cell_type": "code",
   "execution_count": 29,
   "metadata": {
    "collapsed": false
   },
   "outputs": [],
   "source": [
    "y, X4 = patsy.dmatrices('salary ~ experience_district + experience_nj', data=df5, return_type=\"dataframe\")"
   ]
  },
  {
   "cell_type": "code",
   "execution_count": 30,
   "metadata": {
    "collapsed": false
   },
   "outputs": [
    {
     "data": {
      "text/html": [
       "<table class=\"simpletable\">\n",
       "<caption>OLS Regression Results</caption>\n",
       "<tr>\n",
       "  <th>Dep. Variable:</th>         <td>salary</td>      <th>  R-squared:         </th> <td>   0.466</td>\n",
       "</tr>\n",
       "<tr>\n",
       "  <th>Model:</th>                   <td>OLS</td>       <th>  Adj. R-squared:    </th> <td>   0.463</td>\n",
       "</tr>\n",
       "<tr>\n",
       "  <th>Method:</th>             <td>Least Squares</td>  <th>  F-statistic:       </th> <td>   170.1</td>\n",
       "</tr>\n",
       "<tr>\n",
       "  <th>Date:</th>             <td>Mon, 17 Jul 2017</td> <th>  Prob (F-statistic):</th> <td>7.52e-54</td>\n",
       "</tr>\n",
       "<tr>\n",
       "  <th>Time:</th>                 <td>08:59:50</td>     <th>  Log-Likelihood:    </th> <td> -4359.7</td>\n",
       "</tr>\n",
       "<tr>\n",
       "  <th>No. Observations:</th>      <td>   393</td>      <th>  AIC:               </th> <td>   8725.</td>\n",
       "</tr>\n",
       "<tr>\n",
       "  <th>Df Residuals:</th>          <td>   390</td>      <th>  BIC:               </th> <td>   8737.</td>\n",
       "</tr>\n",
       "<tr>\n",
       "  <th>Df Model:</th>              <td>     2</td>      <th>                     </th>     <td> </td>   \n",
       "</tr>\n",
       "<tr>\n",
       "  <th>Covariance Type:</th>      <td>nonrobust</td>    <th>                     </th>     <td> </td>   \n",
       "</tr>\n",
       "</table>\n",
       "<table class=\"simpletable\">\n",
       "<tr>\n",
       "           <td></td>              <th>coef</th>     <th>std err</th>      <th>t</th>      <th>P>|t|</th> <th>[95.0% Conf. Int.]</th> \n",
       "</tr>\n",
       "<tr>\n",
       "  <th>Intercept</th>           <td> 5.403e+04</td> <td> 1298.437</td> <td>   41.608</td> <td> 0.000</td> <td> 5.15e+04  5.66e+04</td>\n",
       "</tr>\n",
       "<tr>\n",
       "  <th>experience_district</th> <td>-1286.9926</td> <td>  224.710</td> <td>   -5.727</td> <td> 0.000</td> <td>-1728.788  -845.198</td>\n",
       "</tr>\n",
       "<tr>\n",
       "  <th>experience_nj</th>       <td> 2776.1261</td> <td>  199.803</td> <td>   13.894</td> <td> 0.000</td> <td> 2383.300  3168.952</td>\n",
       "</tr>\n",
       "</table>\n",
       "<table class=\"simpletable\">\n",
       "<tr>\n",
       "  <th>Omnibus:</th>       <td>63.112</td> <th>  Durbin-Watson:     </th> <td>   1.888</td>\n",
       "</tr>\n",
       "<tr>\n",
       "  <th>Prob(Omnibus):</th> <td> 0.000</td> <th>  Jarque-Bera (JB):  </th> <td> 273.069</td>\n",
       "</tr>\n",
       "<tr>\n",
       "  <th>Skew:</th>          <td> 0.605</td> <th>  Prob(JB):          </th> <td>5.06e-60</td>\n",
       "</tr>\n",
       "<tr>\n",
       "  <th>Kurtosis:</th>      <td> 6.900</td> <th>  Cond. No.          </th> <td>    26.1</td>\n",
       "</tr>\n",
       "</table>"
      ],
      "text/plain": [
       "<class 'statsmodels.iolib.summary.Summary'>\n",
       "\"\"\"\n",
       "                            OLS Regression Results                            \n",
       "==============================================================================\n",
       "Dep. Variable:                 salary   R-squared:                       0.466\n",
       "Model:                            OLS   Adj. R-squared:                  0.463\n",
       "Method:                 Least Squares   F-statistic:                     170.1\n",
       "Date:                Mon, 17 Jul 2017   Prob (F-statistic):           7.52e-54\n",
       "Time:                        08:59:50   Log-Likelihood:                -4359.7\n",
       "No. Observations:                 393   AIC:                             8725.\n",
       "Df Residuals:                     390   BIC:                             8737.\n",
       "Df Model:                           2                                         \n",
       "Covariance Type:            nonrobust                                         \n",
       "=======================================================================================\n",
       "                          coef    std err          t      P>|t|      [95.0% Conf. Int.]\n",
       "---------------------------------------------------------------------------------------\n",
       "Intercept            5.403e+04   1298.437     41.608      0.000      5.15e+04  5.66e+04\n",
       "experience_district -1286.9926    224.710     -5.727      0.000     -1728.788  -845.198\n",
       "experience_nj        2776.1261    199.803     13.894      0.000      2383.300  3168.952\n",
       "==============================================================================\n",
       "Omnibus:                       63.112   Durbin-Watson:                   1.888\n",
       "Prob(Omnibus):                  0.000   Jarque-Bera (JB):              273.069\n",
       "Skew:                           0.605   Prob(JB):                     5.06e-60\n",
       "Kurtosis:                       6.900   Cond. No.                         26.1\n",
       "==============================================================================\n",
       "\n",
       "Warnings:\n",
       "[1] Standard Errors assume that the covariance matrix of the errors is correctly specified.\n",
       "\"\"\""
      ]
     },
     "execution_count": 30,
     "metadata": {},
     "output_type": "execute_result"
    }
   ],
   "source": [
    "sm.OLS(y, X4).fit().summary()"
   ]
  },
  {
   "cell_type": "code",
   "execution_count": 31,
   "metadata": {
    "collapsed": true
   },
   "outputs": [],
   "source": [
    "# keep fte b/c R^2 decreases"
   ]
  },
  {
   "cell_type": "code",
   "execution_count": 32,
   "metadata": {
    "collapsed": false
   },
   "outputs": [
    {
     "data": {
      "text/plain": [
       "0.53871199584588314"
      ]
     },
     "execution_count": 32,
     "metadata": {},
     "output_type": "execute_result"
    }
   ],
   "source": [
    "n2 = ['salary', 'experience_district', 'experience_nj', 'fte']\n",
    "df6 = df5[n2]\n",
    "lr = LinearRegression()\n",
    "X = df6.iloc[:, 1:]\n",
    "y = df6.iloc[:, 0]\n",
    "lr.fit(X, y)\n",
    "lr.score(X,y)"
   ]
  },
  {
   "cell_type": "code",
   "execution_count": 33,
   "metadata": {
    "collapsed": false
   },
   "outputs": [
    {
     "name": "stdout",
     "output_type": "stream",
     "text": [
      "17955.8000272\n"
     ]
    }
   ],
   "source": [
    "print(lr.intercept_)"
   ]
  },
  {
   "cell_type": "code",
   "execution_count": 34,
   "metadata": {
    "collapsed": false
   },
   "outputs": [
    {
     "name": "stdout",
     "output_type": "stream",
     "text": [
      "[ -1209.2907231    2781.88703363  37529.89794024]\n"
     ]
    }
   ],
   "source": [
    "print(lr.coef_)"
   ]
  },
  {
   "cell_type": "code",
   "execution_count": 35,
   "metadata": {
    "collapsed": true
   },
   "outputs": [],
   "source": [
    "df6.to_pickle('edu_sal_df6.pkl')"
   ]
  },
  {
   "cell_type": "code",
   "execution_count": 36,
   "metadata": {
    "collapsed": false
   },
   "outputs": [
    {
     "data": {
      "text/plain": [
       "Index(['salary', 'experience_district', 'experience_nj', 'fte'], dtype='object')"
      ]
     },
     "execution_count": 36,
     "metadata": {},
     "output_type": "execute_result"
    }
   ],
   "source": [
    "from sklearn.externals import joblib\n",
    "joblib.dump(lr, 'edu_sal_df6_model.pkl')\n",
    "df6.columns"
   ]
  },
  {
   "cell_type": "code",
   "execution_count": 37,
   "metadata": {
    "collapsed": true
   },
   "outputs": [],
   "source": [
    "# Consider using categoricals, that is values which are strings/categories rather than\n",
    "# numbers."
   ]
  },
  {
   "cell_type": "code",
   "execution_count": 38,
   "metadata": {
    "collapsed": false
   },
   "outputs": [
    {
     "data": {
      "text/plain": [
       "General ed             318\n",
       "Special ed              56\n",
       "Admin or supervisor     18\n",
       "Hearing                  1\n",
       "Name: subcategory, dtype: int64"
      ]
     },
     "execution_count": 38,
     "metadata": {},
     "output_type": "execute_result"
    }
   ],
   "source": [
    "df4.subcategory.value_counts()"
   ]
  },
  {
   "cell_type": "code",
   "execution_count": 39,
   "metadata": {
    "collapsed": false
   },
   "outputs": [
    {
     "data": {
      "text/plain": [
       "Standard certificate    326\n",
       "CEAS                     40\n",
       "Provisional              20\n",
       "CE                        6\n",
       "Non Citizen               1\n",
       "Name: certificate, dtype: int64"
      ]
     },
     "execution_count": 39,
     "metadata": {},
     "output_type": "execute_result"
    }
   ],
   "source": [
    "df4.certificate.value_counts()"
   ]
  },
  {
   "cell_type": "code",
   "execution_count": 40,
   "metadata": {
    "collapsed": false
   },
   "outputs": [
    {
     "data": {
      "text/plain": [
       "Traditional    376\n",
       "Alternate       17\n",
       "Name: teaching_route, dtype: int64"
      ]
     },
     "execution_count": 40,
     "metadata": {},
     "output_type": "execute_result"
    }
   ],
   "source": [
    "df4.teaching_route.value_counts()"
   ]
  },
  {
   "cell_type": "code",
   "execution_count": 41,
   "metadata": {
    "collapsed": false
   },
   "outputs": [
    {
     "data": {
      "text/plain": [
       "Highly qualified. Passed the Praxis/NTE                                   296\n",
       "Doesn't need to be highly qualified                                        54\n",
       "Highly qualified. Has gradate or undergraduate degree in subject area.     16\n",
       "Highly qualified, House Matrix                                             14\n",
       "Highly qualified. Has 30 credits in content area.                          13\n",
       "Name: highly_qualified, dtype: int64"
      ]
     },
     "execution_count": 41,
     "metadata": {},
     "output_type": "execute_result"
    }
   ],
   "source": [
    "df4.highly_qualified.value_counts()"
   ]
  },
  {
   "cell_type": "code",
   "execution_count": 42,
   "metadata": {
    "collapsed": true
   },
   "outputs": [],
   "source": [
    "# all of the models will use the same response variable, y\n",
    "y = df6.salary"
   ]
  },
  {
   "cell_type": "code",
   "execution_count": 43,
   "metadata": {
    "collapsed": false
   },
   "outputs": [
    {
     "data": {
      "text/html": [
       "<table class=\"simpletable\">\n",
       "<caption>OLS Regression Results</caption>\n",
       "<tr>\n",
       "  <th>Dep. Variable:</th>         <td>salary</td>      <th>  R-squared:         </th> <td>   0.758</td> \n",
       "</tr>\n",
       "<tr>\n",
       "  <th>Model:</th>                   <td>OLS</td>       <th>  Adj. R-squared:    </th> <td>   0.754</td> \n",
       "</tr>\n",
       "<tr>\n",
       "  <th>Method:</th>             <td>Least Squares</td>  <th>  F-statistic:       </th> <td>   201.1</td> \n",
       "</tr>\n",
       "<tr>\n",
       "  <th>Date:</th>             <td>Mon, 17 Jul 2017</td> <th>  Prob (F-statistic):</th> <td>1.69e-115</td>\n",
       "</tr>\n",
       "<tr>\n",
       "  <th>Time:</th>                 <td>08:59:50</td>     <th>  Log-Likelihood:    </th> <td> -4204.5</td> \n",
       "</tr>\n",
       "<tr>\n",
       "  <th>No. Observations:</th>      <td>   393</td>      <th>  AIC:               </th> <td>   8423.</td> \n",
       "</tr>\n",
       "<tr>\n",
       "  <th>Df Residuals:</th>          <td>   386</td>      <th>  BIC:               </th> <td>   8451.</td> \n",
       "</tr>\n",
       "<tr>\n",
       "  <th>Df Model:</th>              <td>     6</td>      <th>                     </th>     <td> </td>    \n",
       "</tr>\n",
       "<tr>\n",
       "  <th>Covariance Type:</th>      <td>nonrobust</td>    <th>                     </th>     <td> </td>    \n",
       "</tr>\n",
       "</table>\n",
       "<table class=\"simpletable\">\n",
       "<tr>\n",
       "              <td></td>                 <th>coef</th>     <th>std err</th>      <th>t</th>      <th>P>|t|</th> <th>[95.0% Conf. Int.]</th> \n",
       "</tr>\n",
       "<tr>\n",
       "  <th>experience_district</th>       <td> -116.8135</td> <td>  164.325</td> <td>   -0.711</td> <td> 0.478</td> <td> -439.897   206.270</td>\n",
       "</tr>\n",
       "<tr>\n",
       "  <th>experience_nj</th>             <td> 1642.1215</td> <td>  148.833</td> <td>   11.033</td> <td> 0.000</td> <td> 1349.497  1934.746</td>\n",
       "</tr>\n",
       "<tr>\n",
       "  <th>fte</th>                       <td> 3.688e+04</td> <td> 3586.505</td> <td>   10.284</td> <td> 0.000</td> <td> 2.98e+04  4.39e+04</td>\n",
       "</tr>\n",
       "<tr>\n",
       "  <th>Intercept</th>                 <td>  7.26e+04</td> <td> 4592.248</td> <td>   15.810</td> <td> 0.000</td> <td> 6.36e+04  8.16e+04</td>\n",
       "</tr>\n",
       "<tr>\n",
       "  <th>subcategory[T.General ed]</th> <td>-5.355e+04</td> <td> 2877.932</td> <td>  -18.608</td> <td> 0.000</td> <td>-5.92e+04 -4.79e+04</td>\n",
       "</tr>\n",
       "<tr>\n",
       "  <th>subcategory[T.Hearing]</th>    <td>-5.938e+04</td> <td> 1.15e+04</td> <td>   -5.152</td> <td> 0.000</td> <td> -8.2e+04 -3.67e+04</td>\n",
       "</tr>\n",
       "<tr>\n",
       "  <th>subcategory[T.Special ed]</th> <td>-5.244e+04</td> <td> 3116.725</td> <td>  -16.824</td> <td> 0.000</td> <td>-5.86e+04 -4.63e+04</td>\n",
       "</tr>\n",
       "</table>\n",
       "<table class=\"simpletable\">\n",
       "<tr>\n",
       "  <th>Omnibus:</th>       <td>40.123</td> <th>  Durbin-Watson:     </th> <td>   2.015</td>\n",
       "</tr>\n",
       "<tr>\n",
       "  <th>Prob(Omnibus):</th> <td> 0.000</td> <th>  Jarque-Bera (JB):  </th> <td> 130.696</td>\n",
       "</tr>\n",
       "<tr>\n",
       "  <th>Skew:</th>          <td> 0.406</td> <th>  Prob(JB):          </th> <td>4.17e-29</td>\n",
       "</tr>\n",
       "<tr>\n",
       "  <th>Kurtosis:</th>      <td> 5.706</td> <th>  Cond. No.          </th> <td>    348.</td>\n",
       "</tr>\n",
       "</table>"
      ],
      "text/plain": [
       "<class 'statsmodels.iolib.summary.Summary'>\n",
       "\"\"\"\n",
       "                            OLS Regression Results                            \n",
       "==============================================================================\n",
       "Dep. Variable:                 salary   R-squared:                       0.758\n",
       "Model:                            OLS   Adj. R-squared:                  0.754\n",
       "Method:                 Least Squares   F-statistic:                     201.1\n",
       "Date:                Mon, 17 Jul 2017   Prob (F-statistic):          1.69e-115\n",
       "Time:                        08:59:50   Log-Likelihood:                -4204.5\n",
       "No. Observations:                 393   AIC:                             8423.\n",
       "Df Residuals:                     386   BIC:                             8451.\n",
       "Df Model:                           6                                         \n",
       "Covariance Type:            nonrobust                                         \n",
       "=============================================================================================\n",
       "                                coef    std err          t      P>|t|      [95.0% Conf. Int.]\n",
       "---------------------------------------------------------------------------------------------\n",
       "experience_district        -116.8135    164.325     -0.711      0.478      -439.897   206.270\n",
       "experience_nj              1642.1215    148.833     11.033      0.000      1349.497  1934.746\n",
       "fte                        3.688e+04   3586.505     10.284      0.000      2.98e+04  4.39e+04\n",
       "Intercept                   7.26e+04   4592.248     15.810      0.000      6.36e+04  8.16e+04\n",
       "subcategory[T.General ed] -5.355e+04   2877.932    -18.608      0.000     -5.92e+04 -4.79e+04\n",
       "subcategory[T.Hearing]    -5.938e+04   1.15e+04     -5.152      0.000      -8.2e+04 -3.67e+04\n",
       "subcategory[T.Special ed] -5.244e+04   3116.725    -16.824      0.000     -5.86e+04 -4.63e+04\n",
       "==============================================================================\n",
       "Omnibus:                       40.123   Durbin-Watson:                   2.015\n",
       "Prob(Omnibus):                  0.000   Jarque-Bera (JB):              130.696\n",
       "Skew:                           0.406   Prob(JB):                     4.17e-29\n",
       "Kurtosis:                       5.706   Cond. No.                         348.\n",
       "==============================================================================\n",
       "\n",
       "Warnings:\n",
       "[1] Standard Errors assume that the covariance matrix of the errors is correctly specified.\n",
       "\"\"\""
      ]
     },
     "execution_count": 43,
     "metadata": {},
     "output_type": "execute_result"
    }
   ],
   "source": [
    "m5 = patsy.dmatrix('subcategory', data=df4, return_type='dataframe')\n",
    "X5 = df6.join(m5).drop('salary', 1)\n",
    "fit5 = sm.OLS(y, X5).fit()\n",
    "fit5.summary()\n",
    "#p = fit4.params\n",
    "#x = np.arange(1,3)\n",
    "#ax = df7.plot(x='experience_nj', y='salary', kind='scatter')\n",
    "#ax.plot(x, p.const + p.experience_nj * x + p.experience_district * x + p.ftr * x)"
   ]
  },
  {
   "cell_type": "code",
   "execution_count": 44,
   "metadata": {
    "collapsed": true
   },
   "outputs": [],
   "source": [
    "#Including subcategory accounts for additional variability - R-squared larger."
   ]
  },
  {
   "cell_type": "code",
   "execution_count": 45,
   "metadata": {
    "collapsed": false
   },
   "outputs": [
    {
     "data": {
      "text/html": [
       "<table class=\"simpletable\">\n",
       "<caption>OLS Regression Results</caption>\n",
       "<tr>\n",
       "  <th>Dep. Variable:</th>         <td>salary</td>      <th>  R-squared:         </th> <td>   0.553</td>\n",
       "</tr>\n",
       "<tr>\n",
       "  <th>Model:</th>                   <td>OLS</td>       <th>  Adj. R-squared:    </th> <td>   0.544</td>\n",
       "</tr>\n",
       "<tr>\n",
       "  <th>Method:</th>             <td>Least Squares</td>  <th>  F-statistic:       </th> <td>   67.92</td>\n",
       "</tr>\n",
       "<tr>\n",
       "  <th>Date:</th>             <td>Mon, 17 Jul 2017</td> <th>  Prob (F-statistic):</th> <td>2.12e-63</td>\n",
       "</tr>\n",
       "<tr>\n",
       "  <th>Time:</th>                 <td>08:59:51</td>     <th>  Log-Likelihood:    </th> <td> -4325.0</td>\n",
       "</tr>\n",
       "<tr>\n",
       "  <th>No. Observations:</th>      <td>   393</td>      <th>  AIC:               </th> <td>   8666.</td>\n",
       "</tr>\n",
       "<tr>\n",
       "  <th>Df Residuals:</th>          <td>   385</td>      <th>  BIC:               </th> <td>   8698.</td>\n",
       "</tr>\n",
       "<tr>\n",
       "  <th>Df Model:</th>              <td>     7</td>      <th>                     </th>     <td> </td>   \n",
       "</tr>\n",
       "<tr>\n",
       "  <th>Covariance Type:</th>      <td>nonrobust</td>    <th>                     </th>     <td> </td>   \n",
       "</tr>\n",
       "</table>\n",
       "<table class=\"simpletable\">\n",
       "<tr>\n",
       "                   <td></td>                      <th>coef</th>     <th>std err</th>      <th>t</th>      <th>P>|t|</th> <th>[95.0% Conf. Int.]</th> \n",
       "</tr>\n",
       "<tr>\n",
       "  <th>experience_district</th>                 <td>-1124.1801</td> <td>  209.027</td> <td>   -5.378</td> <td> 0.000</td> <td>-1535.158  -713.202</td>\n",
       "</tr>\n",
       "<tr>\n",
       "  <th>experience_nj</th>                       <td> 2801.9373</td> <td>  189.137</td> <td>   14.814</td> <td> 0.000</td> <td> 2430.067  3173.808</td>\n",
       "</tr>\n",
       "<tr>\n",
       "  <th>fte</th>                                 <td> 3.729e+04</td> <td> 4771.822</td> <td>    7.815</td> <td> 0.000</td> <td> 2.79e+04  4.67e+04</td>\n",
       "</tr>\n",
       "<tr>\n",
       "  <th>Intercept</th>                           <td> 3.307e+04</td> <td> 7704.139</td> <td>    4.292</td> <td> 0.000</td> <td> 1.79e+04  4.82e+04</td>\n",
       "</tr>\n",
       "<tr>\n",
       "  <th>certificate[T.CEAS]</th>                 <td>-1.453e+04</td> <td> 6482.188</td> <td>   -2.242</td> <td> 0.026</td> <td>-2.73e+04 -1789.086</td>\n",
       "</tr>\n",
       "<tr>\n",
       "  <th>certificate[T.Non Citizen]</th>          <td>-2.198e+04</td> <td> 1.59e+04</td> <td>   -1.383</td> <td> 0.168</td> <td>-5.32e+04  9268.728</td>\n",
       "</tr>\n",
       "<tr>\n",
       "  <th>certificate[T.Provisional]</th>          <td>-8731.1272</td> <td> 6866.841</td> <td>   -1.271</td> <td> 0.204</td> <td>-2.22e+04  4770.077</td>\n",
       "</tr>\n",
       "<tr>\n",
       "  <th>certificate[T.Standard certificate]</th> <td>-1.658e+04</td> <td> 6144.312</td> <td>   -2.698</td> <td> 0.007</td> <td>-2.87e+04 -4496.804</td>\n",
       "</tr>\n",
       "</table>\n",
       "<table class=\"simpletable\">\n",
       "<tr>\n",
       "  <th>Omnibus:</th>       <td>105.754</td> <th>  Durbin-Watson:     </th> <td>   1.866</td>\n",
       "</tr>\n",
       "<tr>\n",
       "  <th>Prob(Omnibus):</th> <td> 0.000</td>  <th>  Jarque-Bera (JB):  </th> <td> 395.845</td>\n",
       "</tr>\n",
       "<tr>\n",
       "  <th>Skew:</th>          <td> 1.151</td>  <th>  Prob(JB):          </th> <td>1.10e-86</td>\n",
       "</tr>\n",
       "<tr>\n",
       "  <th>Kurtosis:</th>      <td> 7.344</td>  <th>  Cond. No.          </th> <td>    372.</td>\n",
       "</tr>\n",
       "</table>"
      ],
      "text/plain": [
       "<class 'statsmodels.iolib.summary.Summary'>\n",
       "\"\"\"\n",
       "                            OLS Regression Results                            \n",
       "==============================================================================\n",
       "Dep. Variable:                 salary   R-squared:                       0.553\n",
       "Model:                            OLS   Adj. R-squared:                  0.544\n",
       "Method:                 Least Squares   F-statistic:                     67.92\n",
       "Date:                Mon, 17 Jul 2017   Prob (F-statistic):           2.12e-63\n",
       "Time:                        08:59:51   Log-Likelihood:                -4325.0\n",
       "No. Observations:                 393   AIC:                             8666.\n",
       "Df Residuals:                     385   BIC:                             8698.\n",
       "Df Model:                           7                                         \n",
       "Covariance Type:            nonrobust                                         \n",
       "=======================================================================================================\n",
       "                                          coef    std err          t      P>|t|      [95.0% Conf. Int.]\n",
       "-------------------------------------------------------------------------------------------------------\n",
       "experience_district                 -1124.1801    209.027     -5.378      0.000     -1535.158  -713.202\n",
       "experience_nj                        2801.9373    189.137     14.814      0.000      2430.067  3173.808\n",
       "fte                                  3.729e+04   4771.822      7.815      0.000      2.79e+04  4.67e+04\n",
       "Intercept                            3.307e+04   7704.139      4.292      0.000      1.79e+04  4.82e+04\n",
       "certificate[T.CEAS]                 -1.453e+04   6482.188     -2.242      0.026     -2.73e+04 -1789.086\n",
       "certificate[T.Non Citizen]          -2.198e+04   1.59e+04     -1.383      0.168     -5.32e+04  9268.728\n",
       "certificate[T.Provisional]          -8731.1272   6866.841     -1.271      0.204     -2.22e+04  4770.077\n",
       "certificate[T.Standard certificate] -1.658e+04   6144.312     -2.698      0.007     -2.87e+04 -4496.804\n",
       "==============================================================================\n",
       "Omnibus:                      105.754   Durbin-Watson:                   1.866\n",
       "Prob(Omnibus):                  0.000   Jarque-Bera (JB):              395.845\n",
       "Skew:                           1.151   Prob(JB):                     1.10e-86\n",
       "Kurtosis:                       7.344   Cond. No.                         372.\n",
       "==============================================================================\n",
       "\n",
       "Warnings:\n",
       "[1] Standard Errors assume that the covariance matrix of the errors is correctly specified.\n",
       "\"\"\""
      ]
     },
     "execution_count": 45,
     "metadata": {},
     "output_type": "execute_result"
    }
   ],
   "source": [
    "m6 = patsy.dmatrix('certificate', data=df4, return_type='dataframe')\n",
    "X6 = df6.join(m6).drop('salary', 1)\n",
    "fit6 = sm.OLS(y, X6).fit()\n",
    "fit6.summary()"
   ]
  },
  {
   "cell_type": "code",
   "execution_count": 46,
   "metadata": {
    "collapsed": false
   },
   "outputs": [
    {
     "data": {
      "text/html": [
       "<table class=\"simpletable\">\n",
       "<caption>OLS Regression Results</caption>\n",
       "<tr>\n",
       "  <th>Dep. Variable:</th>         <td>salary</td>      <th>  R-squared:         </th> <td>   0.539</td>\n",
       "</tr>\n",
       "<tr>\n",
       "  <th>Model:</th>                   <td>OLS</td>       <th>  Adj. R-squared:    </th> <td>   0.534</td>\n",
       "</tr>\n",
       "<tr>\n",
       "  <th>Method:</th>             <td>Least Squares</td>  <th>  F-statistic:       </th> <td>   113.3</td>\n",
       "</tr>\n",
       "<tr>\n",
       "  <th>Date:</th>             <td>Mon, 17 Jul 2017</td> <th>  Prob (F-statistic):</th> <td>6.82e-64</td>\n",
       "</tr>\n",
       "<tr>\n",
       "  <th>Time:</th>                 <td>08:59:51</td>     <th>  Log-Likelihood:    </th> <td> -4331.0</td>\n",
       "</tr>\n",
       "<tr>\n",
       "  <th>No. Observations:</th>      <td>   393</td>      <th>  AIC:               </th> <td>   8672.</td>\n",
       "</tr>\n",
       "<tr>\n",
       "  <th>Df Residuals:</th>          <td>   388</td>      <th>  BIC:               </th> <td>   8692.</td>\n",
       "</tr>\n",
       "<tr>\n",
       "  <th>Df Model:</th>              <td>     4</td>      <th>                     </th>     <td> </td>   \n",
       "</tr>\n",
       "<tr>\n",
       "  <th>Covariance Type:</th>      <td>nonrobust</td>    <th>                     </th>     <td> </td>   \n",
       "</tr>\n",
       "</table>\n",
       "<table class=\"simpletable\">\n",
       "<tr>\n",
       "                <td></td>                   <th>coef</th>     <th>std err</th>      <th>t</th>      <th>P>|t|</th> <th>[95.0% Conf. Int.]</th> \n",
       "</tr>\n",
       "<tr>\n",
       "  <th>experience_district</th>           <td>-1209.5727</td> <td>  209.971</td> <td>   -5.761</td> <td> 0.000</td> <td>-1622.395  -796.750</td>\n",
       "</tr>\n",
       "<tr>\n",
       "  <th>experience_nj</th>                 <td> 2782.0544</td> <td>  186.316</td> <td>   14.932</td> <td> 0.000</td> <td> 2415.740  3148.369</td>\n",
       "</tr>\n",
       "<tr>\n",
       "  <th>fte</th>                           <td> 3.753e+04</td> <td> 4799.202</td> <td>    7.819</td> <td> 0.000</td> <td> 2.81e+04   4.7e+04</td>\n",
       "</tr>\n",
       "<tr>\n",
       "  <th>Intercept</th>                     <td> 1.788e+04</td> <td> 5857.839</td> <td>    3.052</td> <td> 0.002</td> <td> 6359.870  2.94e+04</td>\n",
       "</tr>\n",
       "<tr>\n",
       "  <th>teaching_route[T.Traditional]</th> <td>   85.6399</td> <td> 3697.270</td> <td>    0.023</td> <td> 0.982</td> <td>-7183.551  7354.831</td>\n",
       "</tr>\n",
       "</table>\n",
       "<table class=\"simpletable\">\n",
       "<tr>\n",
       "  <th>Omnibus:</th>       <td>108.594</td> <th>  Durbin-Watson:     </th> <td>   1.842</td>\n",
       "</tr>\n",
       "<tr>\n",
       "  <th>Prob(Omnibus):</th> <td> 0.000</td>  <th>  Jarque-Bera (JB):  </th> <td> 389.103</td>\n",
       "</tr>\n",
       "<tr>\n",
       "  <th>Skew:</th>          <td> 1.201</td>  <th>  Prob(JB):          </th> <td>3.22e-85</td>\n",
       "</tr>\n",
       "<tr>\n",
       "  <th>Kurtosis:</th>      <td> 7.242</td>  <th>  Cond. No.          </th> <td>    158.</td>\n",
       "</tr>\n",
       "</table>"
      ],
      "text/plain": [
       "<class 'statsmodels.iolib.summary.Summary'>\n",
       "\"\"\"\n",
       "                            OLS Regression Results                            \n",
       "==============================================================================\n",
       "Dep. Variable:                 salary   R-squared:                       0.539\n",
       "Model:                            OLS   Adj. R-squared:                  0.534\n",
       "Method:                 Least Squares   F-statistic:                     113.3\n",
       "Date:                Mon, 17 Jul 2017   Prob (F-statistic):           6.82e-64\n",
       "Time:                        08:59:51   Log-Likelihood:                -4331.0\n",
       "No. Observations:                 393   AIC:                             8672.\n",
       "Df Residuals:                     388   BIC:                             8692.\n",
       "Df Model:                           4                                         \n",
       "Covariance Type:            nonrobust                                         \n",
       "=================================================================================================\n",
       "                                    coef    std err          t      P>|t|      [95.0% Conf. Int.]\n",
       "-------------------------------------------------------------------------------------------------\n",
       "experience_district           -1209.5727    209.971     -5.761      0.000     -1622.395  -796.750\n",
       "experience_nj                  2782.0544    186.316     14.932      0.000      2415.740  3148.369\n",
       "fte                            3.753e+04   4799.202      7.819      0.000      2.81e+04   4.7e+04\n",
       "Intercept                      1.788e+04   5857.839      3.052      0.002      6359.870  2.94e+04\n",
       "teaching_route[T.Traditional]    85.6399   3697.270      0.023      0.982     -7183.551  7354.831\n",
       "==============================================================================\n",
       "Omnibus:                      108.594   Durbin-Watson:                   1.842\n",
       "Prob(Omnibus):                  0.000   Jarque-Bera (JB):              389.103\n",
       "Skew:                           1.201   Prob(JB):                     3.22e-85\n",
       "Kurtosis:                       7.242   Cond. No.                         158.\n",
       "==============================================================================\n",
       "\n",
       "Warnings:\n",
       "[1] Standard Errors assume that the covariance matrix of the errors is correctly specified.\n",
       "\"\"\""
      ]
     },
     "execution_count": 46,
     "metadata": {},
     "output_type": "execute_result"
    }
   ],
   "source": [
    "m7 = patsy.dmatrix('teaching_route', data=df4, return_type='dataframe')\n",
    "X7 = df6.join(m7).drop('salary', 1)\n",
    "fit7 = sm.OLS(y, X7).fit()\n",
    "fit7.summary()"
   ]
  },
  {
   "cell_type": "code",
   "execution_count": 47,
   "metadata": {
    "collapsed": false
   },
   "outputs": [],
   "source": [
    "# not sure how to add them all\n",
    "# categories = ['primary_job', 'subcategory', 'certificate', 'highly_qualified', 'teaching_route']\n",
    "# df8 = df5\n",
    "# dummy_list = []\n",
    "# for c in categories:\n",
    "#    new = pd.get_dummies(df4[c])\n",
    "    # print(c)\n",
    "    # print(new)\n",
    "#    df8.append(new)\n",
    "# df8.head()\n"
   ]
  },
  {
   "cell_type": "code",
   "execution_count": 48,
   "metadata": {
    "collapsed": false
   },
   "outputs": [
    {
     "name": "stderr",
     "output_type": "stream",
     "text": [
      "/usr/lib64/python3.5/site-packages/sklearn/cross_validation.py:44: DeprecationWarning: This module was deprecated in version 0.18 in favor of the model_selection module into which all the refactored classes and functions are moved. Also note that the interface of the new CV iterators are different from that of this module. This module will be removed in 0.20.\n",
      "  \"This module will be removed in 0.20.\", DeprecationWarning)\n"
     ]
    }
   ],
   "source": [
    "# test/train validate\n",
    "from sklearn.linear_model import LinearRegression\n",
    "from sklearn import metrics\n",
    "from sklearn.preprocessing import PolynomialFeatures\n",
    "from sklearn.pipeline import make_pipeline\n",
    "from sklearn.cross_validation import train_test_split\n",
    "from sklearn.cross_validation import KFold"
   ]
  },
  {
   "cell_type": "code",
   "execution_count": 49,
   "metadata": {
    "collapsed": false
   },
   "outputs": [
    {
     "data": {
      "text/plain": [
       "0.53871199584588314"
      ]
     },
     "execution_count": 49,
     "metadata": {},
     "output_type": "execute_result"
    }
   ],
   "source": [
    "# test/train split using 2/3 data for train, 1/3 for test.\n",
    "lrcvr = LinearRegression()\n",
    "X_train, X_test, y_train, y_test = train_test_split(X, y, test_size=0.3)\n",
    "lrcvr.fit(X, y)\n",
    "lrcvr.score(X,y)"
   ]
  },
  {
   "cell_type": "code",
   "execution_count": 50,
   "metadata": {
    "collapsed": false
   },
   "outputs": [
    {
     "name": "stdout",
     "output_type": "stream",
     "text": [
      "[  8.91470496e+08   2.64187277e+08   2.04383476e+08   1.77197768e+08\n",
      "   1.04463207e+08   5.48158270e+07   8.94501456e+07   1.12301407e+08\n",
      "   8.09406426e+07   3.69327794e+08]\n"
     ]
    },
    {
     "name": "stderr",
     "output_type": "stream",
     "text": [
      "/usr/lib64/python3.5/site-packages/sklearn/metrics/scorer.py:90: DeprecationWarning: Scoring method mean_squared_error was renamed to neg_mean_squared_error in version 0.18 and will be removed in 0.20.\n",
      "  sample_weight=sample_weight)\n",
      "/usr/lib64/python3.5/site-packages/sklearn/metrics/scorer.py:90: DeprecationWarning: Scoring method mean_squared_error was renamed to neg_mean_squared_error in version 0.18 and will be removed in 0.20.\n",
      "  sample_weight=sample_weight)\n",
      "/usr/lib64/python3.5/site-packages/sklearn/metrics/scorer.py:90: DeprecationWarning: Scoring method mean_squared_error was renamed to neg_mean_squared_error in version 0.18 and will be removed in 0.20.\n",
      "  sample_weight=sample_weight)\n",
      "/usr/lib64/python3.5/site-packages/sklearn/metrics/scorer.py:90: DeprecationWarning: Scoring method mean_squared_error was renamed to neg_mean_squared_error in version 0.18 and will be removed in 0.20.\n",
      "  sample_weight=sample_weight)\n",
      "/usr/lib64/python3.5/site-packages/sklearn/metrics/scorer.py:90: DeprecationWarning: Scoring method mean_squared_error was renamed to neg_mean_squared_error in version 0.18 and will be removed in 0.20.\n",
      "  sample_weight=sample_weight)\n",
      "/usr/lib64/python3.5/site-packages/sklearn/metrics/scorer.py:90: DeprecationWarning: Scoring method mean_squared_error was renamed to neg_mean_squared_error in version 0.18 and will be removed in 0.20.\n",
      "  sample_weight=sample_weight)\n",
      "/usr/lib64/python3.5/site-packages/sklearn/metrics/scorer.py:90: DeprecationWarning: Scoring method mean_squared_error was renamed to neg_mean_squared_error in version 0.18 and will be removed in 0.20.\n",
      "  sample_weight=sample_weight)\n",
      "/usr/lib64/python3.5/site-packages/sklearn/metrics/scorer.py:90: DeprecationWarning: Scoring method mean_squared_error was renamed to neg_mean_squared_error in version 0.18 and will be removed in 0.20.\n",
      "  sample_weight=sample_weight)\n",
      "/usr/lib64/python3.5/site-packages/sklearn/metrics/scorer.py:90: DeprecationWarning: Scoring method mean_squared_error was renamed to neg_mean_squared_error in version 0.18 and will be removed in 0.20.\n",
      "  sample_weight=sample_weight)\n",
      "/usr/lib64/python3.5/site-packages/sklearn/metrics/scorer.py:90: DeprecationWarning: Scoring method mean_squared_error was renamed to neg_mean_squared_error in version 0.18 and will be removed in 0.20.\n",
      "  sample_weight=sample_weight)\n"
     ]
    }
   ],
   "source": [
    "# cross validate\n",
    "from sklearn.cross_validation import cross_val_score\n",
    "reg = LinearRegression()\n",
    "scores = cross_val_score(reg, X, y, cv=10, scoring='mean_squared_error')\n",
    "print(-scores)"
   ]
  },
  {
   "cell_type": "code",
   "execution_count": null,
   "metadata": {
    "collapsed": true
   },
   "outputs": [],
   "source": []
  },
  {
   "cell_type": "code",
   "execution_count": null,
   "metadata": {
    "collapsed": true
   },
   "outputs": [],
   "source": []
  },
  {
   "cell_type": "code",
   "execution_count": null,
   "metadata": {
    "collapsed": true
   },
   "outputs": [],
   "source": []
  }
 ],
 "metadata": {
  "kernelspec": {
   "display_name": "Python 3",
   "language": "python",
   "name": "python3"
  },
  "language_info": {
   "codemirror_mode": {
    "name": "ipython",
    "version": 3
   },
   "file_extension": ".py",
   "mimetype": "text/x-python",
   "name": "python",
   "nbconvert_exporter": "python",
   "pygments_lexer": "ipython3",
   "version": "3.5.3"
  }
 },
 "nbformat": 4,
 "nbformat_minor": 0
}
